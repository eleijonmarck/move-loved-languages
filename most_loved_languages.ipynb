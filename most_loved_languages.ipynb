{
 "cells": [
  {
   "cell_type": "code",
   "execution_count": 70,
   "metadata": {},
   "outputs": [],
   "source": [
    "import pandas as pd\n",
    "import altair as alt\n",
    "\n",
    "import datetime"
   ]
  },
  {
   "cell_type": "code",
   "execution_count": 71,
   "metadata": {},
   "outputs": [],
   "source": [
    "df = pd.read_csv('languages.csv')"
   ]
  },
  {
   "cell_type": "code",
   "execution_count": 72,
   "metadata": {},
   "outputs": [
    {
     "data": {
      "text/html": [
       "<div>\n",
       "<style scoped>\n",
       "    .dataframe tbody tr th:only-of-type {\n",
       "        vertical-align: middle;\n",
       "    }\n",
       "\n",
       "    .dataframe tbody tr th {\n",
       "        vertical-align: top;\n",
       "    }\n",
       "\n",
       "    .dataframe thead th {\n",
       "        text-align: right;\n",
       "    }\n",
       "</style>\n",
       "<table border=\"1\" class=\"dataframe\">\n",
       "  <thead>\n",
       "    <tr style=\"text-align: right;\">\n",
       "      <th></th>\n",
       "      <th>language</th>\n",
       "      <th>percentage</th>\n",
       "      <th>year</th>\n",
       "    </tr>\n",
       "  </thead>\n",
       "  <tbody>\n",
       "    <tr>\n",
       "      <th>0</th>\n",
       "      <td>Python</td>\n",
       "      <td>0.666</td>\n",
       "      <td>2015-12-31</td>\n",
       "    </tr>\n",
       "    <tr>\n",
       "      <th>1</th>\n",
       "      <td>C#</td>\n",
       "      <td>0.672</td>\n",
       "      <td>2015-12-31</td>\n",
       "    </tr>\n",
       "    <tr>\n",
       "      <th>2</th>\n",
       "      <td>Haskell</td>\n",
       "      <td>0.695</td>\n",
       "      <td>2015-12-31</td>\n",
       "    </tr>\n",
       "    <tr>\n",
       "      <th>3</th>\n",
       "      <td>F#</td>\n",
       "      <td>0.701</td>\n",
       "      <td>2015-12-31</td>\n",
       "    </tr>\n",
       "    <tr>\n",
       "      <th>4</th>\n",
       "      <td>Scala</td>\n",
       "      <td>0.706</td>\n",
       "      <td>2015-12-31</td>\n",
       "    </tr>\n",
       "  </tbody>\n",
       "</table>\n",
       "</div>"
      ],
      "text/plain": [
       "  language  percentage        year\n",
       "0   Python       0.666  2015-12-31\n",
       "1       C#       0.672  2015-12-31\n",
       "2  Haskell       0.695  2015-12-31\n",
       "3       F#       0.701  2015-12-31\n",
       "4    Scala       0.706  2015-12-31"
      ]
     },
     "execution_count": 72,
     "metadata": {},
     "output_type": "execute_result"
    }
   ],
   "source": [
    "df.head()"
   ]
  },
  {
   "cell_type": "code",
   "execution_count": 76,
   "metadata": {},
   "outputs": [],
   "source": [
    "links_for_source_data = [\n",
    "    'https://insights.stackoverflow.com/survey/2015#tech-super',\n",
    "    'https://insights.stackoverflow.com/survey/2016#technology-most-loved-dreaded-and-wanted',\n",
    "    'https://insights.stackoverflow.com/survey/2017#most-loved-dreaded-and-wanted',\n",
    "    'https://insights.stackoverflow.com/survey/2018#most-loved-dreaded-and-wanted',\n",
    "    'https://insights.stackoverflow.com/survey/2019#most-loved-dreaded-and-wanted'\n",
    "]"
   ]
  },
  {
   "cell_type": "code",
   "execution_count": 73,
   "metadata": {},
   "outputs": [],
   "source": [
    "interesting_languages = (\n",
    "    \"Rust\",\n",
    "    \"Go\",\n",
    "    \"Kotlin\"\n",
    ")"
   ]
  },
  {
   "cell_type": "code",
   "execution_count": 75,
   "metadata": {},
   "outputs": [
    {
     "data": {
      "application/vnd.vegalite.v3+json": {
       "$schema": "https://vega.github.io/schema/vega-lite/v3.4.0.json",
       "config": {
        "mark": {
         "tooltip": null
        },
        "view": {
         "height": 300,
         "width": 400
        }
       },
       "datasets": {
        "data-99b84630a52131f94b4977c1a6015de1": [
         {
          "language": "Python",
          "percentage": 0.6659999999999999,
          "year": "2015-12-31"
         },
         {
          "language": "C#",
          "percentage": 0.672,
          "year": "2015-12-31"
         },
         {
          "language": "Haskell",
          "percentage": 0.695,
          "year": "2015-12-31"
         },
         {
          "language": "F#",
          "percentage": 0.701,
          "year": "2015-12-31"
         },
         {
          "language": "Scala",
          "percentage": 0.706,
          "year": "2015-12-31"
         },
         {
          "language": "Clojure",
          "percentage": 0.71,
          "year": "2015-12-31"
         },
         {
          "language": "Go",
          "percentage": 0.725,
          "year": "2015-12-31"
         },
         {
          "language": "Rust",
          "percentage": 0.738,
          "year": "2015-12-31"
         },
         {
          "language": "C++",
          "percentage": 0.758,
          "year": "2015-12-31"
         },
         {
          "language": "Swift",
          "percentage": 0.7759999999999999,
          "year": "2015-12-31"
         },
         {
          "language": "Python",
          "percentage": 0.625,
          "year": "2016-12-31"
         },
         {
          "language": "C#",
          "percentage": 0.62,
          "year": "2016-12-31"
         },
         {
          "language": "Haskell",
          "percentage": 0.647,
          "year": "2016-12-31"
         },
         {
          "language": "F#",
          "percentage": 0.7070000000000001,
          "year": "2016-12-31"
         },
         {
          "language": "Scala",
          "percentage": 0.6940000000000001,
          "year": "2016-12-31"
         },
         {
          "language": "Clojure",
          "percentage": 0.667,
          "year": "2016-12-31"
         },
         {
          "language": "Go",
          "percentage": 0.687,
          "year": "2016-12-31"
         },
         {
          "language": "Rust",
          "percentage": 0.7909999999999999,
          "year": "2016-12-31"
         },
         {
          "language": "Swift",
          "percentage": 0.721,
          "year": "2016-12-31"
         },
         {
          "language": "Javascript",
          "percentage": 0.596,
          "year": "2016-12-31"
         },
         {
          "language": "Python",
          "percentage": 0.627,
          "year": "2017-12-31"
         },
         {
          "language": "C#",
          "percentage": 0.617,
          "year": "2017-12-31"
         },
         {
          "language": "Haskell",
          "percentage": 0.545,
          "year": "2017-12-31"
         },
         {
          "language": "F#",
          "percentage": 0.562,
          "year": "2017-12-31"
         },
         {
          "language": "Scala",
          "percentage": 0.599,
          "year": "2017-12-31"
         },
         {
          "language": "Clojure",
          "percentage": 0.598,
          "year": "2017-12-31"
         },
         {
          "language": "Go",
          "percentage": 0.633,
          "year": "2017-12-31"
         },
         {
          "language": "Rust",
          "percentage": 0.731,
          "year": "2017-12-31"
         },
         {
          "language": "Swift",
          "percentage": 0.639,
          "year": "2017-12-31"
         },
         {
          "language": "Javascript",
          "percentage": 0.598,
          "year": "2017-12-31"
         },
         {
          "language": "Typescript",
          "percentage": 0.6409999999999999,
          "year": "2017-12-31"
         },
         {
          "language": "Python",
          "percentage": 0.68,
          "year": "2018-12-31"
         },
         {
          "language": "C#",
          "percentage": 0.604,
          "year": "2018-12-31"
         },
         {
          "language": "Haskell",
          "percentage": 0.536,
          "year": "2018-12-31"
         },
         {
          "language": "F#",
          "percentage": 0.596,
          "year": "2018-12-31"
         },
         {
          "language": "Scala",
          "percentage": 0.585,
          "year": "2018-12-31"
         },
         {
          "language": "Clojure",
          "percentage": 0.596,
          "year": "2018-12-31"
         },
         {
          "language": "Go",
          "percentage": 0.6559999999999999,
          "year": "2018-12-31"
         },
         {
          "language": "Rust",
          "percentage": 0.789,
          "year": "2018-12-31"
         },
         {
          "language": "Swift",
          "percentage": 0.6509999999999999,
          "year": "2018-12-31"
         },
         {
          "language": "Javascript",
          "percentage": 0.619,
          "year": "2018-12-31"
         },
         {
          "language": "Typescript",
          "percentage": 0.67,
          "year": "2018-12-31"
         },
         {
          "language": "Kotlin",
          "percentage": 0.7509999999999999,
          "year": "2018-12-31"
         },
         {
          "language": "Python",
          "percentage": 0.731,
          "year": "2019-12-31"
         },
         {
          "language": "C#",
          "percentage": 0.67,
          "year": "2019-12-31"
         },
         {
          "language": "F#",
          "percentage": 0.617,
          "year": "2019-12-31"
         },
         {
          "language": "Scala",
          "percentage": 0.583,
          "year": "2019-12-31"
         },
         {
          "language": "Clojure",
          "percentage": 0.6829999999999999,
          "year": "2019-12-31"
         },
         {
          "language": "Go",
          "percentage": 0.679,
          "year": "2019-12-31"
         },
         {
          "language": "Rust",
          "percentage": 0.835,
          "year": "2019-12-31"
         },
         {
          "language": "Swift",
          "percentage": 0.6920000000000001,
          "year": "2019-12-31"
         },
         {
          "language": "Javascript",
          "percentage": 0.6679999999999999,
          "year": "2019-12-31"
         },
         {
          "language": "Typescript",
          "percentage": 0.731,
          "year": "2019-12-31"
         },
         {
          "language": "Kotlin",
          "percentage": 0.726,
          "year": "2019-12-31"
         },
         {
          "language": "Elixir",
          "percentage": 0.682,
          "year": "2019-12-31"
         }
        ],
        "data-f9e593a59e3bdc525d7638fc0c57c3c9": [
         {
          "language": "Go",
          "percentage": 0.725,
          "year": "2015-12-31"
         },
         {
          "language": "Rust",
          "percentage": 0.738,
          "year": "2015-12-31"
         },
         {
          "language": "Go",
          "percentage": 0.687,
          "year": "2016-12-31"
         },
         {
          "language": "Rust",
          "percentage": 0.7909999999999999,
          "year": "2016-12-31"
         },
         {
          "language": "Go",
          "percentage": 0.633,
          "year": "2017-12-31"
         },
         {
          "language": "Rust",
          "percentage": 0.731,
          "year": "2017-12-31"
         },
         {
          "language": "Go",
          "percentage": 0.6559999999999999,
          "year": "2018-12-31"
         },
         {
          "language": "Rust",
          "percentage": 0.789,
          "year": "2018-12-31"
         },
         {
          "language": "Kotlin",
          "percentage": 0.7509999999999999,
          "year": "2018-12-31"
         },
         {
          "language": "Go",
          "percentage": 0.679,
          "year": "2019-12-31"
         },
         {
          "language": "Rust",
          "percentage": 0.835,
          "year": "2019-12-31"
         },
         {
          "language": "Kotlin",
          "percentage": 0.726,
          "year": "2019-12-31"
         }
        ]
       },
       "layer": [
        {
         "data": {
          "name": "data-f9e593a59e3bdc525d7638fc0c57c3c9"
         },
         "encoding": {
          "color": {
           "field": "language",
           "type": "nominal"
          },
          "x": {
           "field": "year",
           "type": "temporal"
          },
          "y": {
           "field": "percentage",
           "type": "quantitative"
          }
         },
         "mark": "line",
         "width": 300
        },
        {
         "data": {
          "name": "data-99b84630a52131f94b4977c1a6015de1"
         },
         "encoding": {
          "x": {
           "field": "year",
           "type": "temporal"
          }
         },
         "mark": "rule",
         "transform": [
          {
           "filter": "(datum.year === '2019-03-19')"
          }
         ]
        }
       ]
      },
      "image/png": "[encoded data removed]",
      "text/plain": [
       "<VegaLite 3 object>\n",
       "\n",
       "If you see this message, it means the renderer has not been properly enabled\n",
       "for the frontend that you are using. For more information, see\n",
       "https://altair-viz.github.io/user_guide/troubleshooting.html\n"
      ]
     },
     "execution_count": 75,
     "metadata": {},
     "output_type": "execute_result"
    }
   ],
   "source": [
    "if interesting_languages:\n",
    "    df_chart = df[df['language'].isin(interesting_languages)]\n",
    "else:\n",
    "    df_chart = df\n",
    "line = alt.Chart(df_chart, width=300).mark_line().encode(\n",
    "x=\"year:T\",\n",
    "y=\"percentage:Q\",\n",
    "color=\"language:N\")\n",
    "\n",
    "introduced_go_modules = '2019-03-19'\n",
    "rule = alt.Chart(df).mark_rule().encode(x='year:T').transform_filter(alt.datum.year == introduced_go_modules)\n",
    "\n",
    "line + rule"
   ]
  }
 ],
 "metadata": {
  "kernelspec": {
   "display_name": "Python 3",
   "language": "python",
   "name": "python3"
  },
  "language_info": {
   "codemirror_mode": {
    "name": "ipython",
    "version": 3
   },
   "file_extension": ".py",
   "mimetype": "text/x-python",
   "name": "python",
   "nbconvert_exporter": "python",
   "pygments_lexer": "ipython3",
   "version": "3.7.5"
  }
 },
 "nbformat": 4,
 "nbformat_minor": 4
}
